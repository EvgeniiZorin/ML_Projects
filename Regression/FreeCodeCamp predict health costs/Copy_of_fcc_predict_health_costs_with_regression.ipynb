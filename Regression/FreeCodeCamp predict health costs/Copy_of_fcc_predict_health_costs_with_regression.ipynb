{
  "cells": [
    {
      "cell_type": "markdown",
      "source": [
        "# Import libraries"
      ],
      "metadata": {
        "id": "3QXlFoOwjcLk"
      }
    },
    {
      "cell_type": "code",
      "source": [
        "!pip install -q git+https://github.com/tensorflow/docs\n",
        "import numpy as np\n",
        "import pandas as pd\n",
        "import matplotlib.pyplot as plt\n",
        "import seaborn as sns\n",
        "\n",
        "from sklearn.linear_model import LinearRegression, Lasso\n",
        "from sklearn.tree import DecisionTreeRegressor\n",
        "from sklearn.metrics import f1_score, accuracy_score, mean_absolute_error\n",
        "\n",
        "try:\n",
        "  # %tensorflow_version only exists in Colab.\n",
        "  %tensorflow_version 2.x\n",
        "except Exception:\n",
        "  pass\n",
        "import tensorflow as tf\n",
        "from tensorflow.keras import datasets, layers, models\n",
        "\n",
        "from tensorflow import keras\n",
        "from tensorflow.keras import layers\n",
        "\n",
        "import tensorflow_docs as tfdocs\n",
        "import tensorflow_docs.plots\n",
        "import tensorflow_docs.modeling"
      ],
      "metadata": {
        "colab": {
          "base_uri": "https://localhost:8080/"
        },
        "id": "my1aWv8noanL",
        "outputId": "53b80b7d-618f-466a-fa19-a1f1f473515e"
      },
      "execution_count": 17,
      "outputs": [
        {
          "output_type": "stream",
          "name": "stdout",
          "text": [
            "Colab only includes TensorFlow 2.x; %tensorflow_version has no effect.\n"
          ]
        }
      ]
    },
    {
      "cell_type": "code",
      "source": [
        "# OPTIONAL: run the cell below if you are on google colab\n",
        "from google.colab import drive\n",
        "drive.mount('/content/drive')\n",
        "\n",
        "import os \n",
        "\n",
        "curr_dir = os.path.split(os.getcwd())[1]\n",
        "print(f\"Current directory: {curr_dir}\")\n",
        "if curr_dir != 'Machine Learning':\n",
        "  os.chdir('drive/MyDrive/Programming/freeCodeCamp/Machine Learning')\n",
        "  print(f\"Changed directory to: {os.path.split(os.getcwd())[1]}\")"
      ],
      "metadata": {
        "colab": {
          "base_uri": "https://localhost:8080/"
        },
        "id": "psgMKRj5foSb",
        "outputId": "4ce7f3ac-26ba-4554-e832-f86542fdb534"
      },
      "execution_count": 18,
      "outputs": [
        {
          "output_type": "stream",
          "name": "stdout",
          "text": [
            "Drive already mounted at /content/drive; to attempt to forcibly remount, call drive.mount(\"/content/drive\", force_remount=True).\n",
            "Current directory: Machine Learning\n"
          ]
        }
      ]
    },
    {
      "cell_type": "code",
      "source": [],
      "metadata": {
        "id": "OjNcGAaEf9YC"
      },
      "execution_count": 18,
      "outputs": []
    },
    {
      "cell_type": "markdown",
      "source": [
        "# Data Processing"
      ],
      "metadata": {
        "id": "nAHIzJFYpqdH"
      }
    },
    {
      "cell_type": "markdown",
      "source": [
        "## Read data"
      ],
      "metadata": {
        "id": "KhVUcQ9Djh5v"
      }
    },
    {
      "cell_type": "code",
      "execution_count": 19,
      "metadata": {
        "id": "CiX2FI4gZtTt",
        "colab": {
          "base_uri": "https://localhost:8080/",
          "height": 397
        },
        "outputId": "686f7194-48ea-4062-ba62-b3b9a97e5569"
      },
      "outputs": [
        {
          "output_type": "stream",
          "name": "stdout",
          "text": [
            "--2022-11-08 20:04:18--  https://cdn.freecodecamp.org/project-data/health-costs/insurance.csv\n",
            "Resolving cdn.freecodecamp.org (cdn.freecodecamp.org)... 172.67.70.149, 104.26.2.33, 104.26.3.33, ...\n",
            "Connecting to cdn.freecodecamp.org (cdn.freecodecamp.org)|172.67.70.149|:443... connected.\n",
            "HTTP request sent, awaiting response... 200 OK\n",
            "Length: 50264 (49K) [text/csv]\n",
            "Saving to: ‘insurance.csv.2’\n",
            "\n",
            "insurance.csv.2     100%[===================>]  49.09K  --.-KB/s    in 0.01s   \n",
            "\n",
            "2022-11-08 20:04:18 (4.75 MB/s) - ‘insurance.csv.2’ saved [50264/50264]\n",
            "\n"
          ]
        },
        {
          "output_type": "execute_result",
          "data": {
            "text/plain": [
              "   age     sex   bmi  children smoker     region  expenses\n",
              "0   19  female  27.9         0    yes  southwest  16884.92\n",
              "1   18    male  33.8         1     no  southeast   1725.55\n",
              "2   28    male  33.0         3     no  southeast   4449.46\n",
              "3   33    male  22.7         0     no  northwest  21984.47\n",
              "4   32    male  28.9         0     no  northwest   3866.86"
            ],
            "text/html": [
              "\n",
              "  <div id=\"df-05eafddc-b257-4f66-bb45-2f44d1bdeb74\">\n",
              "    <div class=\"colab-df-container\">\n",
              "      <div>\n",
              "<style scoped>\n",
              "    .dataframe tbody tr th:only-of-type {\n",
              "        vertical-align: middle;\n",
              "    }\n",
              "\n",
              "    .dataframe tbody tr th {\n",
              "        vertical-align: top;\n",
              "    }\n",
              "\n",
              "    .dataframe thead th {\n",
              "        text-align: right;\n",
              "    }\n",
              "</style>\n",
              "<table border=\"1\" class=\"dataframe\">\n",
              "  <thead>\n",
              "    <tr style=\"text-align: right;\">\n",
              "      <th></th>\n",
              "      <th>age</th>\n",
              "      <th>sex</th>\n",
              "      <th>bmi</th>\n",
              "      <th>children</th>\n",
              "      <th>smoker</th>\n",
              "      <th>region</th>\n",
              "      <th>expenses</th>\n",
              "    </tr>\n",
              "  </thead>\n",
              "  <tbody>\n",
              "    <tr>\n",
              "      <th>0</th>\n",
              "      <td>19</td>\n",
              "      <td>female</td>\n",
              "      <td>27.9</td>\n",
              "      <td>0</td>\n",
              "      <td>yes</td>\n",
              "      <td>southwest</td>\n",
              "      <td>16884.92</td>\n",
              "    </tr>\n",
              "    <tr>\n",
              "      <th>1</th>\n",
              "      <td>18</td>\n",
              "      <td>male</td>\n",
              "      <td>33.8</td>\n",
              "      <td>1</td>\n",
              "      <td>no</td>\n",
              "      <td>southeast</td>\n",
              "      <td>1725.55</td>\n",
              "    </tr>\n",
              "    <tr>\n",
              "      <th>2</th>\n",
              "      <td>28</td>\n",
              "      <td>male</td>\n",
              "      <td>33.0</td>\n",
              "      <td>3</td>\n",
              "      <td>no</td>\n",
              "      <td>southeast</td>\n",
              "      <td>4449.46</td>\n",
              "    </tr>\n",
              "    <tr>\n",
              "      <th>3</th>\n",
              "      <td>33</td>\n",
              "      <td>male</td>\n",
              "      <td>22.7</td>\n",
              "      <td>0</td>\n",
              "      <td>no</td>\n",
              "      <td>northwest</td>\n",
              "      <td>21984.47</td>\n",
              "    </tr>\n",
              "    <tr>\n",
              "      <th>4</th>\n",
              "      <td>32</td>\n",
              "      <td>male</td>\n",
              "      <td>28.9</td>\n",
              "      <td>0</td>\n",
              "      <td>no</td>\n",
              "      <td>northwest</td>\n",
              "      <td>3866.86</td>\n",
              "    </tr>\n",
              "  </tbody>\n",
              "</table>\n",
              "</div>\n",
              "      <button class=\"colab-df-convert\" onclick=\"convertToInteractive('df-05eafddc-b257-4f66-bb45-2f44d1bdeb74')\"\n",
              "              title=\"Convert this dataframe to an interactive table.\"\n",
              "              style=\"display:none;\">\n",
              "        \n",
              "  <svg xmlns=\"http://www.w3.org/2000/svg\" height=\"24px\"viewBox=\"0 0 24 24\"\n",
              "       width=\"24px\">\n",
              "    <path d=\"M0 0h24v24H0V0z\" fill=\"none\"/>\n",
              "    <path d=\"M18.56 5.44l.94 2.06.94-2.06 2.06-.94-2.06-.94-.94-2.06-.94 2.06-2.06.94zm-11 1L8.5 8.5l.94-2.06 2.06-.94-2.06-.94L8.5 2.5l-.94 2.06-2.06.94zm10 10l.94 2.06.94-2.06 2.06-.94-2.06-.94-.94-2.06-.94 2.06-2.06.94z\"/><path d=\"M17.41 7.96l-1.37-1.37c-.4-.4-.92-.59-1.43-.59-.52 0-1.04.2-1.43.59L10.3 9.45l-7.72 7.72c-.78.78-.78 2.05 0 2.83L4 21.41c.39.39.9.59 1.41.59.51 0 1.02-.2 1.41-.59l7.78-7.78 2.81-2.81c.8-.78.8-2.07 0-2.86zM5.41 20L4 18.59l7.72-7.72 1.47 1.35L5.41 20z\"/>\n",
              "  </svg>\n",
              "      </button>\n",
              "      \n",
              "  <style>\n",
              "    .colab-df-container {\n",
              "      display:flex;\n",
              "      flex-wrap:wrap;\n",
              "      gap: 12px;\n",
              "    }\n",
              "\n",
              "    .colab-df-convert {\n",
              "      background-color: #E8F0FE;\n",
              "      border: none;\n",
              "      border-radius: 50%;\n",
              "      cursor: pointer;\n",
              "      display: none;\n",
              "      fill: #1967D2;\n",
              "      height: 32px;\n",
              "      padding: 0 0 0 0;\n",
              "      width: 32px;\n",
              "    }\n",
              "\n",
              "    .colab-df-convert:hover {\n",
              "      background-color: #E2EBFA;\n",
              "      box-shadow: 0px 1px 2px rgba(60, 64, 67, 0.3), 0px 1px 3px 1px rgba(60, 64, 67, 0.15);\n",
              "      fill: #174EA6;\n",
              "    }\n",
              "\n",
              "    [theme=dark] .colab-df-convert {\n",
              "      background-color: #3B4455;\n",
              "      fill: #D2E3FC;\n",
              "    }\n",
              "\n",
              "    [theme=dark] .colab-df-convert:hover {\n",
              "      background-color: #434B5C;\n",
              "      box-shadow: 0px 1px 3px 1px rgba(0, 0, 0, 0.15);\n",
              "      filter: drop-shadow(0px 1px 2px rgba(0, 0, 0, 0.3));\n",
              "      fill: #FFFFFF;\n",
              "    }\n",
              "  </style>\n",
              "\n",
              "      <script>\n",
              "        const buttonEl =\n",
              "          document.querySelector('#df-05eafddc-b257-4f66-bb45-2f44d1bdeb74 button.colab-df-convert');\n",
              "        buttonEl.style.display =\n",
              "          google.colab.kernel.accessAllowed ? 'block' : 'none';\n",
              "\n",
              "        async function convertToInteractive(key) {\n",
              "          const element = document.querySelector('#df-05eafddc-b257-4f66-bb45-2f44d1bdeb74');\n",
              "          const dataTable =\n",
              "            await google.colab.kernel.invokeFunction('convertToInteractive',\n",
              "                                                     [key], {});\n",
              "          if (!dataTable) return;\n",
              "\n",
              "          const docLinkHtml = 'Like what you see? Visit the ' +\n",
              "            '<a target=\"_blank\" href=https://colab.research.google.com/notebooks/data_table.ipynb>data table notebook</a>'\n",
              "            + ' to learn more about interactive tables.';\n",
              "          element.innerHTML = '';\n",
              "          dataTable['output_type'] = 'display_data';\n",
              "          await google.colab.output.renderOutput(dataTable, element);\n",
              "          const docLink = document.createElement('div');\n",
              "          docLink.innerHTML = docLinkHtml;\n",
              "          element.appendChild(docLink);\n",
              "        }\n",
              "      </script>\n",
              "    </div>\n",
              "  </div>\n",
              "  "
            ]
          },
          "metadata": {},
          "execution_count": 19
        }
      ],
      "source": [
        "# Import data\n",
        "!wget https://cdn.freecodecamp.org/project-data/health-costs/insurance.csv\n",
        "dataset = pd.read_csv('insurance.csv')\n",
        "dataset.head()"
      ]
    },
    {
      "cell_type": "code",
      "source": [
        "# exploring the dataset\n",
        "print(\"The dataset has\", len(dataset), \"rows\")\n",
        "print(\"Columns (features of the dataset):\")\n",
        "print(list(dataset.columns))"
      ],
      "metadata": {
        "colab": {
          "base_uri": "https://localhost:8080/"
        },
        "id": "Es6zxDWFkJd8",
        "outputId": "2e66c40b-04b9-4278-9c84-d5d72d489ebe"
      },
      "execution_count": 20,
      "outputs": [
        {
          "output_type": "stream",
          "name": "stdout",
          "text": [
            "The dataset has 1338 rows\n",
            "Columns (features of the dataset):\n",
            "['age', 'sex', 'bmi', 'children', 'smoker', 'region', 'expenses']\n"
          ]
        }
      ]
    },
    {
      "cell_type": "markdown",
      "source": [
        "## Clean"
      ],
      "metadata": {
        "id": "ZulekcgQjl6X"
      }
    },
    {
      "cell_type": "code",
      "execution_count": 21,
      "metadata": {
        "id": "LcopvQh3X-kX",
        "colab": {
          "base_uri": "https://localhost:8080/"
        },
        "outputId": "f55003e9-2b67-4003-b373-9ff234195951"
      },
      "outputs": [
        {
          "output_type": "execute_result",
          "data": {
            "text/plain": [
              "age         0\n",
              "sex         0\n",
              "bmi         0\n",
              "children    0\n",
              "smoker      0\n",
              "region      0\n",
              "expenses    0\n",
              "dtype: int64"
            ]
          },
          "metadata": {},
          "execution_count": 21
        }
      ],
      "source": [
        "dataset_clean = dataset.copy(deep=True)\n",
        "\n",
        "# Check how many null values there are\n",
        "dataset_clean.isna().sum()\n",
        "# There are no missing values, so no need to handle missing values"
      ]
    },
    {
      "cell_type": "markdown",
      "source": [
        "## Preprocessing"
      ],
      "metadata": {
        "id": "7jsrCVS-k5la"
      }
    },
    {
      "cell_type": "code",
      "source": [
        "# First of all, all the features seem relevant for prediction, so we'll keep them in. "
      ],
      "metadata": {
        "id": "x23Vy9Ulj5Mo"
      },
      "execution_count": 22,
      "outputs": []
    },
    {
      "cell_type": "code",
      "source": [
        "# Dealing with categorical data\n",
        "\"\"\"\n",
        "There are some categorical variables in the dataset:\n",
        "- sex\n",
        "- smoker\n",
        "- region\n",
        "Let's process them by one-hot encoding\n",
        "\"\"\"\n",
        "dataset_preprocess = dataset_clean.copy(deep=True)\n",
        "\n",
        "for i in ['sex', 'smoker', 'region']:\n",
        "  print(f\"Unique categories in variable '{i}': {dataset_preprocess[i].unique()}\")\n",
        "print('-'*100)\n",
        "\n",
        "# one-hot encode 'sex'\n",
        "dataset_preprocess = pd.get_dummies(dataset_preprocess, columns=['sex'], prefix='', prefix_sep='')\n",
        "# one-hot encode 'smoker'\n",
        "dataset_preprocess['smoker'] = dataset_preprocess['smoker'].map({'yes':'smoking', 'no':'no_smoking'})\n",
        "dataset_preprocess = pd.get_dummies(dataset_preprocess, columns=['smoker'], prefix='', prefix_sep='')\n",
        "# one-hot encode 'region'\n",
        "dataset_preprocess = pd.get_dummies(dataset_preprocess, columns=['region'], prefix='', prefix_sep='')\n",
        "dataset_preprocess.head()"
      ],
      "metadata": {
        "colab": {
          "base_uri": "https://localhost:8080/",
          "height": 276
        },
        "id": "ca2Qp163lz8O",
        "outputId": "64217dfe-dc93-430f-f03c-e4f06186db13"
      },
      "execution_count": 23,
      "outputs": [
        {
          "output_type": "stream",
          "name": "stdout",
          "text": [
            "Unique categories in variable 'sex': ['female' 'male']\n",
            "Unique categories in variable 'smoker': ['yes' 'no']\n",
            "Unique categories in variable 'region': ['southwest' 'southeast' 'northwest' 'northeast']\n",
            "----------------------------------------------------------------------------------------------------\n"
          ]
        },
        {
          "output_type": "execute_result",
          "data": {
            "text/plain": [
              "   age   bmi  children  expenses  female  male  no_smoking  smoking  \\\n",
              "0   19  27.9         0  16884.92       1     0           0        1   \n",
              "1   18  33.8         1   1725.55       0     1           1        0   \n",
              "2   28  33.0         3   4449.46       0     1           1        0   \n",
              "3   33  22.7         0  21984.47       0     1           1        0   \n",
              "4   32  28.9         0   3866.86       0     1           1        0   \n",
              "\n",
              "   northeast  northwest  southeast  southwest  \n",
              "0          0          0          0          1  \n",
              "1          0          0          1          0  \n",
              "2          0          0          1          0  \n",
              "3          0          1          0          0  \n",
              "4          0          1          0          0  "
            ],
            "text/html": [
              "\n",
              "  <div id=\"df-beb0ac01-54f2-484a-8151-7ce20d5fd30e\">\n",
              "    <div class=\"colab-df-container\">\n",
              "      <div>\n",
              "<style scoped>\n",
              "    .dataframe tbody tr th:only-of-type {\n",
              "        vertical-align: middle;\n",
              "    }\n",
              "\n",
              "    .dataframe tbody tr th {\n",
              "        vertical-align: top;\n",
              "    }\n",
              "\n",
              "    .dataframe thead th {\n",
              "        text-align: right;\n",
              "    }\n",
              "</style>\n",
              "<table border=\"1\" class=\"dataframe\">\n",
              "  <thead>\n",
              "    <tr style=\"text-align: right;\">\n",
              "      <th></th>\n",
              "      <th>age</th>\n",
              "      <th>bmi</th>\n",
              "      <th>children</th>\n",
              "      <th>expenses</th>\n",
              "      <th>female</th>\n",
              "      <th>male</th>\n",
              "      <th>no_smoking</th>\n",
              "      <th>smoking</th>\n",
              "      <th>northeast</th>\n",
              "      <th>northwest</th>\n",
              "      <th>southeast</th>\n",
              "      <th>southwest</th>\n",
              "    </tr>\n",
              "  </thead>\n",
              "  <tbody>\n",
              "    <tr>\n",
              "      <th>0</th>\n",
              "      <td>19</td>\n",
              "      <td>27.9</td>\n",
              "      <td>0</td>\n",
              "      <td>16884.92</td>\n",
              "      <td>1</td>\n",
              "      <td>0</td>\n",
              "      <td>0</td>\n",
              "      <td>1</td>\n",
              "      <td>0</td>\n",
              "      <td>0</td>\n",
              "      <td>0</td>\n",
              "      <td>1</td>\n",
              "    </tr>\n",
              "    <tr>\n",
              "      <th>1</th>\n",
              "      <td>18</td>\n",
              "      <td>33.8</td>\n",
              "      <td>1</td>\n",
              "      <td>1725.55</td>\n",
              "      <td>0</td>\n",
              "      <td>1</td>\n",
              "      <td>1</td>\n",
              "      <td>0</td>\n",
              "      <td>0</td>\n",
              "      <td>0</td>\n",
              "      <td>1</td>\n",
              "      <td>0</td>\n",
              "    </tr>\n",
              "    <tr>\n",
              "      <th>2</th>\n",
              "      <td>28</td>\n",
              "      <td>33.0</td>\n",
              "      <td>3</td>\n",
              "      <td>4449.46</td>\n",
              "      <td>0</td>\n",
              "      <td>1</td>\n",
              "      <td>1</td>\n",
              "      <td>0</td>\n",
              "      <td>0</td>\n",
              "      <td>0</td>\n",
              "      <td>1</td>\n",
              "      <td>0</td>\n",
              "    </tr>\n",
              "    <tr>\n",
              "      <th>3</th>\n",
              "      <td>33</td>\n",
              "      <td>22.7</td>\n",
              "      <td>0</td>\n",
              "      <td>21984.47</td>\n",
              "      <td>0</td>\n",
              "      <td>1</td>\n",
              "      <td>1</td>\n",
              "      <td>0</td>\n",
              "      <td>0</td>\n",
              "      <td>1</td>\n",
              "      <td>0</td>\n",
              "      <td>0</td>\n",
              "    </tr>\n",
              "    <tr>\n",
              "      <th>4</th>\n",
              "      <td>32</td>\n",
              "      <td>28.9</td>\n",
              "      <td>0</td>\n",
              "      <td>3866.86</td>\n",
              "      <td>0</td>\n",
              "      <td>1</td>\n",
              "      <td>1</td>\n",
              "      <td>0</td>\n",
              "      <td>0</td>\n",
              "      <td>1</td>\n",
              "      <td>0</td>\n",
              "      <td>0</td>\n",
              "    </tr>\n",
              "  </tbody>\n",
              "</table>\n",
              "</div>\n",
              "      <button class=\"colab-df-convert\" onclick=\"convertToInteractive('df-beb0ac01-54f2-484a-8151-7ce20d5fd30e')\"\n",
              "              title=\"Convert this dataframe to an interactive table.\"\n",
              "              style=\"display:none;\">\n",
              "        \n",
              "  <svg xmlns=\"http://www.w3.org/2000/svg\" height=\"24px\"viewBox=\"0 0 24 24\"\n",
              "       width=\"24px\">\n",
              "    <path d=\"M0 0h24v24H0V0z\" fill=\"none\"/>\n",
              "    <path d=\"M18.56 5.44l.94 2.06.94-2.06 2.06-.94-2.06-.94-.94-2.06-.94 2.06-2.06.94zm-11 1L8.5 8.5l.94-2.06 2.06-.94-2.06-.94L8.5 2.5l-.94 2.06-2.06.94zm10 10l.94 2.06.94-2.06 2.06-.94-2.06-.94-.94-2.06-.94 2.06-2.06.94z\"/><path d=\"M17.41 7.96l-1.37-1.37c-.4-.4-.92-.59-1.43-.59-.52 0-1.04.2-1.43.59L10.3 9.45l-7.72 7.72c-.78.78-.78 2.05 0 2.83L4 21.41c.39.39.9.59 1.41.59.51 0 1.02-.2 1.41-.59l7.78-7.78 2.81-2.81c.8-.78.8-2.07 0-2.86zM5.41 20L4 18.59l7.72-7.72 1.47 1.35L5.41 20z\"/>\n",
              "  </svg>\n",
              "      </button>\n",
              "      \n",
              "  <style>\n",
              "    .colab-df-container {\n",
              "      display:flex;\n",
              "      flex-wrap:wrap;\n",
              "      gap: 12px;\n",
              "    }\n",
              "\n",
              "    .colab-df-convert {\n",
              "      background-color: #E8F0FE;\n",
              "      border: none;\n",
              "      border-radius: 50%;\n",
              "      cursor: pointer;\n",
              "      display: none;\n",
              "      fill: #1967D2;\n",
              "      height: 32px;\n",
              "      padding: 0 0 0 0;\n",
              "      width: 32px;\n",
              "    }\n",
              "\n",
              "    .colab-df-convert:hover {\n",
              "      background-color: #E2EBFA;\n",
              "      box-shadow: 0px 1px 2px rgba(60, 64, 67, 0.3), 0px 1px 3px 1px rgba(60, 64, 67, 0.15);\n",
              "      fill: #174EA6;\n",
              "    }\n",
              "\n",
              "    [theme=dark] .colab-df-convert {\n",
              "      background-color: #3B4455;\n",
              "      fill: #D2E3FC;\n",
              "    }\n",
              "\n",
              "    [theme=dark] .colab-df-convert:hover {\n",
              "      background-color: #434B5C;\n",
              "      box-shadow: 0px 1px 3px 1px rgba(0, 0, 0, 0.15);\n",
              "      filter: drop-shadow(0px 1px 2px rgba(0, 0, 0, 0.3));\n",
              "      fill: #FFFFFF;\n",
              "    }\n",
              "  </style>\n",
              "\n",
              "      <script>\n",
              "        const buttonEl =\n",
              "          document.querySelector('#df-beb0ac01-54f2-484a-8151-7ce20d5fd30e button.colab-df-convert');\n",
              "        buttonEl.style.display =\n",
              "          google.colab.kernel.accessAllowed ? 'block' : 'none';\n",
              "\n",
              "        async function convertToInteractive(key) {\n",
              "          const element = document.querySelector('#df-beb0ac01-54f2-484a-8151-7ce20d5fd30e');\n",
              "          const dataTable =\n",
              "            await google.colab.kernel.invokeFunction('convertToInteractive',\n",
              "                                                     [key], {});\n",
              "          if (!dataTable) return;\n",
              "\n",
              "          const docLinkHtml = 'Like what you see? Visit the ' +\n",
              "            '<a target=\"_blank\" href=https://colab.research.google.com/notebooks/data_table.ipynb>data table notebook</a>'\n",
              "            + ' to learn more about interactive tables.';\n",
              "          element.innerHTML = '';\n",
              "          dataTable['output_type'] = 'display_data';\n",
              "          await google.colab.output.renderOutput(dataTable, element);\n",
              "          const docLink = document.createElement('div');\n",
              "          docLink.innerHTML = docLinkHtml;\n",
              "          element.appendChild(docLink);\n",
              "        }\n",
              "      </script>\n",
              "    </div>\n",
              "  </div>\n",
              "  "
            ]
          },
          "metadata": {},
          "execution_count": 23
        }
      ]
    },
    {
      "cell_type": "markdown",
      "source": [
        "## Train-test split"
      ],
      "metadata": {
        "id": "7mWaLUXGplvv"
      }
    },
    {
      "cell_type": "code",
      "source": [
        "from sklearn.model_selection import train_test_split\n",
        "\n",
        "data = dataset_preprocess.copy(deep=True)\n",
        "\n",
        "# Features-labels split and train-validation split\n",
        "# Features - all the columns except \"expenses\"\n",
        "features = data.drop(['expenses'], axis=1)\n",
        "labels = data['expenses']\n",
        "\n",
        "# Split the data into test-train-validation sets: 60-20-20%\n",
        "## First split the data into two groups: one with train data, the other - with mixed test and validate\n",
        "features_train, features_validation_test, labels_train, labels_validation_test = train_test_split(\n",
        "\tfeatures, labels, test_size=0.4, \n",
        "\trandom_state=100 # We fix random_state to make sure we get the same split every time\n",
        ")\n",
        "## Now, split the test-validate group into the separate test and validate groups\n",
        "features_validation, features_test, labels_validation, labels_test = train_test_split(\n",
        "\tfeatures_validation_test, labels_validation_test, test_size=0.5, random_state=100\n",
        ")\n",
        "print(f\"For training, we will use {len(features_train)} features and {len(labels_train)} labels.\")\n",
        "print(f\"For validation, we will use {len(features_validation)} features and {len(labels_validation)} labels.\")\n",
        "print(f\"For testing, we will use {len(features_test)} features and {len(labels_test)} labels.\")"
      ],
      "metadata": {
        "colab": {
          "base_uri": "https://localhost:8080/"
        },
        "id": "clPYFBATpnkw",
        "outputId": "fcdcdfc5-ced8-4716-f782-0c420ee0d340"
      },
      "execution_count": 24,
      "outputs": [
        {
          "output_type": "stream",
          "name": "stdout",
          "text": [
            "For training, we will use 802 features and 802 labels.\n",
            "For validation, we will use 268 features and 268 labels.\n",
            "For testing, we will use 268 features and 268 labels.\n"
          ]
        }
      ]
    },
    {
      "cell_type": "code",
      "source": [
        "print(len(features_train.columns))\n",
        "features_train.head()"
      ],
      "metadata": {
        "colab": {
          "base_uri": "https://localhost:8080/",
          "height": 224
        },
        "id": "uoVkMBTLq1zu",
        "outputId": "db721d41-fd72-4fa9-c253-9238f223683e"
      },
      "execution_count": 25,
      "outputs": [
        {
          "output_type": "stream",
          "name": "stdout",
          "text": [
            "11\n"
          ]
        },
        {
          "output_type": "execute_result",
          "data": {
            "text/plain": [
              "      age   bmi  children  female  male  no_smoking  smoking  northeast  \\\n",
              "1025   21  34.6         0       1     0           1        0          0   \n",
              "253    27  30.3         3       0     1           1        0          0   \n",
              "359    18  20.8         0       1     0           1        0          0   \n",
              "1231   20  21.8         0       1     0           0        1          0   \n",
              "1176   52  24.1         1       1     0           0        1          0   \n",
              "\n",
              "      northwest  southeast  southwest  \n",
              "1025          0          0          1  \n",
              "253           0          0          1  \n",
              "359           0          1          0  \n",
              "1231          0          0          1  \n",
              "1176          1          0          0  "
            ],
            "text/html": [
              "\n",
              "  <div id=\"df-e4a0b819-745a-4e2b-887f-01f663cdf6f5\">\n",
              "    <div class=\"colab-df-container\">\n",
              "      <div>\n",
              "<style scoped>\n",
              "    .dataframe tbody tr th:only-of-type {\n",
              "        vertical-align: middle;\n",
              "    }\n",
              "\n",
              "    .dataframe tbody tr th {\n",
              "        vertical-align: top;\n",
              "    }\n",
              "\n",
              "    .dataframe thead th {\n",
              "        text-align: right;\n",
              "    }\n",
              "</style>\n",
              "<table border=\"1\" class=\"dataframe\">\n",
              "  <thead>\n",
              "    <tr style=\"text-align: right;\">\n",
              "      <th></th>\n",
              "      <th>age</th>\n",
              "      <th>bmi</th>\n",
              "      <th>children</th>\n",
              "      <th>female</th>\n",
              "      <th>male</th>\n",
              "      <th>no_smoking</th>\n",
              "      <th>smoking</th>\n",
              "      <th>northeast</th>\n",
              "      <th>northwest</th>\n",
              "      <th>southeast</th>\n",
              "      <th>southwest</th>\n",
              "    </tr>\n",
              "  </thead>\n",
              "  <tbody>\n",
              "    <tr>\n",
              "      <th>1025</th>\n",
              "      <td>21</td>\n",
              "      <td>34.6</td>\n",
              "      <td>0</td>\n",
              "      <td>1</td>\n",
              "      <td>0</td>\n",
              "      <td>1</td>\n",
              "      <td>0</td>\n",
              "      <td>0</td>\n",
              "      <td>0</td>\n",
              "      <td>0</td>\n",
              "      <td>1</td>\n",
              "    </tr>\n",
              "    <tr>\n",
              "      <th>253</th>\n",
              "      <td>27</td>\n",
              "      <td>30.3</td>\n",
              "      <td>3</td>\n",
              "      <td>0</td>\n",
              "      <td>1</td>\n",
              "      <td>1</td>\n",
              "      <td>0</td>\n",
              "      <td>0</td>\n",
              "      <td>0</td>\n",
              "      <td>0</td>\n",
              "      <td>1</td>\n",
              "    </tr>\n",
              "    <tr>\n",
              "      <th>359</th>\n",
              "      <td>18</td>\n",
              "      <td>20.8</td>\n",
              "      <td>0</td>\n",
              "      <td>1</td>\n",
              "      <td>0</td>\n",
              "      <td>1</td>\n",
              "      <td>0</td>\n",
              "      <td>0</td>\n",
              "      <td>0</td>\n",
              "      <td>1</td>\n",
              "      <td>0</td>\n",
              "    </tr>\n",
              "    <tr>\n",
              "      <th>1231</th>\n",
              "      <td>20</td>\n",
              "      <td>21.8</td>\n",
              "      <td>0</td>\n",
              "      <td>1</td>\n",
              "      <td>0</td>\n",
              "      <td>0</td>\n",
              "      <td>1</td>\n",
              "      <td>0</td>\n",
              "      <td>0</td>\n",
              "      <td>0</td>\n",
              "      <td>1</td>\n",
              "    </tr>\n",
              "    <tr>\n",
              "      <th>1176</th>\n",
              "      <td>52</td>\n",
              "      <td>24.1</td>\n",
              "      <td>1</td>\n",
              "      <td>1</td>\n",
              "      <td>0</td>\n",
              "      <td>0</td>\n",
              "      <td>1</td>\n",
              "      <td>0</td>\n",
              "      <td>1</td>\n",
              "      <td>0</td>\n",
              "      <td>0</td>\n",
              "    </tr>\n",
              "  </tbody>\n",
              "</table>\n",
              "</div>\n",
              "      <button class=\"colab-df-convert\" onclick=\"convertToInteractive('df-e4a0b819-745a-4e2b-887f-01f663cdf6f5')\"\n",
              "              title=\"Convert this dataframe to an interactive table.\"\n",
              "              style=\"display:none;\">\n",
              "        \n",
              "  <svg xmlns=\"http://www.w3.org/2000/svg\" height=\"24px\"viewBox=\"0 0 24 24\"\n",
              "       width=\"24px\">\n",
              "    <path d=\"M0 0h24v24H0V0z\" fill=\"none\"/>\n",
              "    <path d=\"M18.56 5.44l.94 2.06.94-2.06 2.06-.94-2.06-.94-.94-2.06-.94 2.06-2.06.94zm-11 1L8.5 8.5l.94-2.06 2.06-.94-2.06-.94L8.5 2.5l-.94 2.06-2.06.94zm10 10l.94 2.06.94-2.06 2.06-.94-2.06-.94-.94-2.06-.94 2.06-2.06.94z\"/><path d=\"M17.41 7.96l-1.37-1.37c-.4-.4-.92-.59-1.43-.59-.52 0-1.04.2-1.43.59L10.3 9.45l-7.72 7.72c-.78.78-.78 2.05 0 2.83L4 21.41c.39.39.9.59 1.41.59.51 0 1.02-.2 1.41-.59l7.78-7.78 2.81-2.81c.8-.78.8-2.07 0-2.86zM5.41 20L4 18.59l7.72-7.72 1.47 1.35L5.41 20z\"/>\n",
              "  </svg>\n",
              "      </button>\n",
              "      \n",
              "  <style>\n",
              "    .colab-df-container {\n",
              "      display:flex;\n",
              "      flex-wrap:wrap;\n",
              "      gap: 12px;\n",
              "    }\n",
              "\n",
              "    .colab-df-convert {\n",
              "      background-color: #E8F0FE;\n",
              "      border: none;\n",
              "      border-radius: 50%;\n",
              "      cursor: pointer;\n",
              "      display: none;\n",
              "      fill: #1967D2;\n",
              "      height: 32px;\n",
              "      padding: 0 0 0 0;\n",
              "      width: 32px;\n",
              "    }\n",
              "\n",
              "    .colab-df-convert:hover {\n",
              "      background-color: #E2EBFA;\n",
              "      box-shadow: 0px 1px 2px rgba(60, 64, 67, 0.3), 0px 1px 3px 1px rgba(60, 64, 67, 0.15);\n",
              "      fill: #174EA6;\n",
              "    }\n",
              "\n",
              "    [theme=dark] .colab-df-convert {\n",
              "      background-color: #3B4455;\n",
              "      fill: #D2E3FC;\n",
              "    }\n",
              "\n",
              "    [theme=dark] .colab-df-convert:hover {\n",
              "      background-color: #434B5C;\n",
              "      box-shadow: 0px 1px 3px 1px rgba(0, 0, 0, 0.15);\n",
              "      filter: drop-shadow(0px 1px 2px rgba(0, 0, 0, 0.3));\n",
              "      fill: #FFFFFF;\n",
              "    }\n",
              "  </style>\n",
              "\n",
              "      <script>\n",
              "        const buttonEl =\n",
              "          document.querySelector('#df-e4a0b819-745a-4e2b-887f-01f663cdf6f5 button.colab-df-convert');\n",
              "        buttonEl.style.display =\n",
              "          google.colab.kernel.accessAllowed ? 'block' : 'none';\n",
              "\n",
              "        async function convertToInteractive(key) {\n",
              "          const element = document.querySelector('#df-e4a0b819-745a-4e2b-887f-01f663cdf6f5');\n",
              "          const dataTable =\n",
              "            await google.colab.kernel.invokeFunction('convertToInteractive',\n",
              "                                                     [key], {});\n",
              "          if (!dataTable) return;\n",
              "\n",
              "          const docLinkHtml = 'Like what you see? Visit the ' +\n",
              "            '<a target=\"_blank\" href=https://colab.research.google.com/notebooks/data_table.ipynb>data table notebook</a>'\n",
              "            + ' to learn more about interactive tables.';\n",
              "          element.innerHTML = '';\n",
              "          dataTable['output_type'] = 'display_data';\n",
              "          await google.colab.output.renderOutput(dataTable, element);\n",
              "          const docLink = document.createElement('div');\n",
              "          docLink.innerHTML = docLinkHtml;\n",
              "          element.appendChild(docLink);\n",
              "        }\n",
              "      </script>\n",
              "    </div>\n",
              "  </div>\n",
              "  "
            ]
          },
          "metadata": {},
          "execution_count": 25
        }
      ]
    },
    {
      "cell_type": "markdown",
      "source": [
        "# Train (sklearn)"
      ],
      "metadata": {
        "id": "ZzH0xygx89Yj"
      }
    },
    {
      "cell_type": "code",
      "source": [
        "def print_output(model, model_name:str):\n",
        "  model.fit(features_train, labels_train)\n",
        "  print(f\"Model: {model_name}\")\n",
        "  predictions = model.predict(features_validation)\n",
        "  print(f\" - Mean Absolute Error: {mean_absolute_error(labels_validation, predictions):.0f}\")\n",
        "  print('-'*50)\n",
        "\n",
        "models_list = [\n",
        "    [LinearRegression(), 'Linear Regression'],\n",
        "    [Lasso(), 'Lasso Regression'], \n",
        "    [DecisionTreeRegressor(max_depth=2), 'Decision Tree Regression']\n",
        "]\n",
        "\n",
        "for i, j in models_list:\n",
        "  print_output(i, j)\n",
        "\n"
      ],
      "metadata": {
        "colab": {
          "base_uri": "https://localhost:8080/"
        },
        "id": "1qR7qgCQx3eE",
        "outputId": "c04a2ff0-6b57-4adc-f154-3766580fce38"
      },
      "execution_count": 26,
      "outputs": [
        {
          "output_type": "stream",
          "name": "stdout",
          "text": [
            "Model: Linear Regression\n",
            " - Mean Absolute Error: 3953\n",
            "--------------------------------------------------\n",
            "Model: Lasso Regression\n",
            " - Mean Absolute Error: 3953\n",
            "--------------------------------------------------\n",
            "Model: Decision Tree Regression\n",
            " - Mean Absolute Error: 3352\n",
            "--------------------------------------------------\n"
          ]
        }
      ]
    },
    {
      "cell_type": "markdown",
      "source": [
        "# Train (tensorflow)"
      ],
      "metadata": {
        "id": "Yc85B1HEoTkR"
      }
    },
    {
      "cell_type": "code",
      "source": [
        "tf.random.set_seed(42)\n",
        "\n",
        "model = models.Sequential([\n",
        "    layers.Dense(256, activation='relu'),\n",
        "    layers.Dense(256, activation='relu'),\n",
        "    layers.Dense(128, activation='relu'),\n",
        "    layers.Dense(1)\n",
        "])\n",
        "\n",
        "model.compile(\n",
        "    loss='mean_absolute_error',\n",
        "    optimizer='adam',\n",
        "    metrics=['mean_absolute_error']\n",
        ")\n",
        "\n",
        "model.fit(features_train, labels_train, epochs=100)"
      ],
      "metadata": {
        "colab": {
          "base_uri": "https://localhost:8080/"
        },
        "id": "qYhFp4QvoV3c",
        "outputId": "bb116998-b4da-4d10-fb80-389ce1ace161"
      },
      "execution_count": 27,
      "outputs": [
        {
          "output_type": "stream",
          "name": "stdout",
          "text": [
            "Epoch 1/100\n",
            "26/26 [==============================] - 1s 8ms/step - loss: 13314.4453 - mean_absolute_error: 13314.4453\n",
            "Epoch 2/100\n",
            "26/26 [==============================] - 0s 6ms/step - loss: 12102.9023 - mean_absolute_error: 12102.9023\n",
            "Epoch 3/100\n",
            "26/26 [==============================] - 0s 5ms/step - loss: 8370.7832 - mean_absolute_error: 8370.7832\n",
            "Epoch 4/100\n",
            "26/26 [==============================] - 0s 5ms/step - loss: 7621.8506 - mean_absolute_error: 7621.8506\n",
            "Epoch 5/100\n",
            "26/26 [==============================] - 0s 4ms/step - loss: 7517.7886 - mean_absolute_error: 7517.7886\n",
            "Epoch 6/100\n",
            "26/26 [==============================] - 0s 5ms/step - loss: 7439.7842 - mean_absolute_error: 7439.7842\n",
            "Epoch 7/100\n",
            "26/26 [==============================] - 0s 9ms/step - loss: 7355.5713 - mean_absolute_error: 7355.5713\n",
            "Epoch 8/100\n",
            "26/26 [==============================] - 0s 8ms/step - loss: 7252.5068 - mean_absolute_error: 7252.5068\n",
            "Epoch 9/100\n",
            "26/26 [==============================] - 0s 9ms/step - loss: 7120.0195 - mean_absolute_error: 7120.0195\n",
            "Epoch 10/100\n",
            "26/26 [==============================] - 0s 7ms/step - loss: 7004.4683 - mean_absolute_error: 7004.4683\n",
            "Epoch 11/100\n",
            "26/26 [==============================] - 0s 9ms/step - loss: 6876.6704 - mean_absolute_error: 6876.6704\n",
            "Epoch 12/100\n",
            "26/26 [==============================] - 0s 8ms/step - loss: 6794.5864 - mean_absolute_error: 6794.5864\n",
            "Epoch 13/100\n",
            "26/26 [==============================] - 0s 8ms/step - loss: 6835.6021 - mean_absolute_error: 6835.6021\n",
            "Epoch 14/100\n",
            "26/26 [==============================] - 0s 9ms/step - loss: 6700.4238 - mean_absolute_error: 6700.4238\n",
            "Epoch 15/100\n",
            "26/26 [==============================] - 0s 11ms/step - loss: 6665.3584 - mean_absolute_error: 6665.3584\n",
            "Epoch 16/100\n",
            "26/26 [==============================] - 0s 9ms/step - loss: 6677.6196 - mean_absolute_error: 6677.6196\n",
            "Epoch 17/100\n",
            "26/26 [==============================] - 0s 9ms/step - loss: 6624.0562 - mean_absolute_error: 6624.0562\n",
            "Epoch 18/100\n",
            "26/26 [==============================] - 0s 9ms/step - loss: 6551.1914 - mean_absolute_error: 6551.1914\n",
            "Epoch 19/100\n",
            "26/26 [==============================] - 0s 8ms/step - loss: 6511.2544 - mean_absolute_error: 6511.2544\n",
            "Epoch 20/100\n",
            "26/26 [==============================] - 0s 10ms/step - loss: 6501.2588 - mean_absolute_error: 6501.2588\n",
            "Epoch 21/100\n",
            "26/26 [==============================] - 0s 9ms/step - loss: 6438.3896 - mean_absolute_error: 6438.3896\n",
            "Epoch 22/100\n",
            "26/26 [==============================] - 0s 11ms/step - loss: 6418.7124 - mean_absolute_error: 6418.7124\n",
            "Epoch 23/100\n",
            "26/26 [==============================] - 0s 8ms/step - loss: 6356.6890 - mean_absolute_error: 6356.6890\n",
            "Epoch 24/100\n",
            "26/26 [==============================] - 0s 10ms/step - loss: 6275.7593 - mean_absolute_error: 6275.7593\n",
            "Epoch 25/100\n",
            "26/26 [==============================] - 0s 7ms/step - loss: 6205.3716 - mean_absolute_error: 6205.3716\n",
            "Epoch 26/100\n",
            "26/26 [==============================] - 0s 8ms/step - loss: 6141.0894 - mean_absolute_error: 6141.0894\n",
            "Epoch 27/100\n",
            "26/26 [==============================] - 0s 11ms/step - loss: 6080.2026 - mean_absolute_error: 6080.2026\n",
            "Epoch 28/100\n",
            "26/26 [==============================] - 0s 9ms/step - loss: 5966.2788 - mean_absolute_error: 5966.2788\n",
            "Epoch 29/100\n",
            "26/26 [==============================] - 0s 9ms/step - loss: 5884.5405 - mean_absolute_error: 5884.5405\n",
            "Epoch 30/100\n",
            "26/26 [==============================] - 0s 10ms/step - loss: 5747.2788 - mean_absolute_error: 5747.2788\n",
            "Epoch 31/100\n",
            "26/26 [==============================] - 0s 11ms/step - loss: 5636.0625 - mean_absolute_error: 5636.0625\n",
            "Epoch 32/100\n",
            "26/26 [==============================] - 0s 17ms/step - loss: 5411.0811 - mean_absolute_error: 5411.0811\n",
            "Epoch 33/100\n",
            "26/26 [==============================] - 0s 16ms/step - loss: 5226.0952 - mean_absolute_error: 5226.0952\n",
            "Epoch 34/100\n",
            "26/26 [==============================] - 0s 15ms/step - loss: 4976.9678 - mean_absolute_error: 4976.9678\n",
            "Epoch 35/100\n",
            "26/26 [==============================] - 0s 12ms/step - loss: 4676.1934 - mean_absolute_error: 4676.1934\n",
            "Epoch 36/100\n",
            "26/26 [==============================] - 0s 11ms/step - loss: 4334.9014 - mean_absolute_error: 4334.9014\n",
            "Epoch 37/100\n",
            "26/26 [==============================] - 0s 12ms/step - loss: 4319.2109 - mean_absolute_error: 4319.2109\n",
            "Epoch 38/100\n",
            "26/26 [==============================] - 0s 12ms/step - loss: 3919.1252 - mean_absolute_error: 3919.1252\n",
            "Epoch 39/100\n",
            "26/26 [==============================] - 0s 14ms/step - loss: 3933.9731 - mean_absolute_error: 3933.9731\n",
            "Epoch 40/100\n",
            "26/26 [==============================] - 0s 14ms/step - loss: 3784.7593 - mean_absolute_error: 3784.7593\n",
            "Epoch 41/100\n",
            "26/26 [==============================] - 0s 14ms/step - loss: 3672.8884 - mean_absolute_error: 3672.8884\n",
            "Epoch 42/100\n",
            "26/26 [==============================] - 0s 10ms/step - loss: 3633.0007 - mean_absolute_error: 3633.0007\n",
            "Epoch 43/100\n",
            "26/26 [==============================] - 0s 13ms/step - loss: 3570.1287 - mean_absolute_error: 3570.1287\n",
            "Epoch 44/100\n",
            "26/26 [==============================] - 0s 15ms/step - loss: 3548.3074 - mean_absolute_error: 3548.3074\n",
            "Epoch 45/100\n",
            "26/26 [==============================] - 0s 9ms/step - loss: 3463.2017 - mean_absolute_error: 3463.2017\n",
            "Epoch 46/100\n",
            "26/26 [==============================] - 0s 13ms/step - loss: 3523.6384 - mean_absolute_error: 3523.6384\n",
            "Epoch 47/100\n",
            "26/26 [==============================] - 0s 12ms/step - loss: 3345.2402 - mean_absolute_error: 3345.2402\n",
            "Epoch 48/100\n",
            "26/26 [==============================] - 0s 10ms/step - loss: 3265.1541 - mean_absolute_error: 3265.1541\n",
            "Epoch 49/100\n",
            "26/26 [==============================] - 0s 8ms/step - loss: 3172.3191 - mean_absolute_error: 3172.3191\n",
            "Epoch 50/100\n",
            "26/26 [==============================] - 0s 10ms/step - loss: 3083.5964 - mean_absolute_error: 3083.5964\n",
            "Epoch 51/100\n",
            "26/26 [==============================] - 0s 8ms/step - loss: 3030.0034 - mean_absolute_error: 3030.0034\n",
            "Epoch 52/100\n",
            "26/26 [==============================] - 0s 10ms/step - loss: 3101.5081 - mean_absolute_error: 3101.5081\n",
            "Epoch 53/100\n",
            "26/26 [==============================] - 0s 12ms/step - loss: 2959.4016 - mean_absolute_error: 2959.4016\n",
            "Epoch 54/100\n",
            "26/26 [==============================] - 0s 8ms/step - loss: 2965.2756 - mean_absolute_error: 2965.2756\n",
            "Epoch 55/100\n",
            "26/26 [==============================] - 0s 8ms/step - loss: 3001.2476 - mean_absolute_error: 3001.2476\n",
            "Epoch 56/100\n",
            "26/26 [==============================] - 0s 12ms/step - loss: 2947.0361 - mean_absolute_error: 2947.0361\n",
            "Epoch 57/100\n",
            "26/26 [==============================] - 0s 10ms/step - loss: 2882.8359 - mean_absolute_error: 2882.8359\n",
            "Epoch 58/100\n",
            "26/26 [==============================] - 0s 10ms/step - loss: 2944.5686 - mean_absolute_error: 2944.5686\n",
            "Epoch 59/100\n",
            "26/26 [==============================] - 0s 13ms/step - loss: 2864.6748 - mean_absolute_error: 2864.6748\n",
            "Epoch 60/100\n",
            "26/26 [==============================] - 0s 12ms/step - loss: 2855.5303 - mean_absolute_error: 2855.5303\n",
            "Epoch 61/100\n",
            "26/26 [==============================] - 0s 11ms/step - loss: 2855.5891 - mean_absolute_error: 2855.5891\n",
            "Epoch 62/100\n",
            "26/26 [==============================] - 0s 12ms/step - loss: 2827.2373 - mean_absolute_error: 2827.2373\n",
            "Epoch 63/100\n",
            "26/26 [==============================] - 0s 12ms/step - loss: 2810.5977 - mean_absolute_error: 2810.5977\n",
            "Epoch 64/100\n",
            "26/26 [==============================] - 0s 12ms/step - loss: 2822.5608 - mean_absolute_error: 2822.5608\n",
            "Epoch 65/100\n",
            "26/26 [==============================] - 0s 10ms/step - loss: 2798.6262 - mean_absolute_error: 2798.6262\n",
            "Epoch 66/100\n",
            "26/26 [==============================] - 0s 16ms/step - loss: 2785.1274 - mean_absolute_error: 2785.1274\n",
            "Epoch 67/100\n",
            "26/26 [==============================] - 0s 11ms/step - loss: 2787.2615 - mean_absolute_error: 2787.2615\n",
            "Epoch 68/100\n",
            "26/26 [==============================] - 0s 15ms/step - loss: 2773.7195 - mean_absolute_error: 2773.7195\n",
            "Epoch 69/100\n",
            "26/26 [==============================] - 0s 11ms/step - loss: 2769.0193 - mean_absolute_error: 2769.0193\n",
            "Epoch 70/100\n",
            "26/26 [==============================] - 0s 12ms/step - loss: 2813.2705 - mean_absolute_error: 2813.2705\n",
            "Epoch 71/100\n",
            "26/26 [==============================] - 0s 16ms/step - loss: 2802.0605 - mean_absolute_error: 2802.0605\n",
            "Epoch 72/100\n",
            "26/26 [==============================] - 0s 10ms/step - loss: 2774.4299 - mean_absolute_error: 2774.4299\n",
            "Epoch 73/100\n",
            "26/26 [==============================] - 0s 9ms/step - loss: 2837.6936 - mean_absolute_error: 2837.6936\n",
            "Epoch 74/100\n",
            "26/26 [==============================] - 0s 10ms/step - loss: 2769.9275 - mean_absolute_error: 2769.9275\n",
            "Epoch 75/100\n",
            "26/26 [==============================] - 0s 14ms/step - loss: 2764.3657 - mean_absolute_error: 2764.3657\n",
            "Epoch 76/100\n",
            "26/26 [==============================] - 0s 9ms/step - loss: 2722.9412 - mean_absolute_error: 2722.9412\n",
            "Epoch 77/100\n",
            "26/26 [==============================] - 0s 13ms/step - loss: 2751.9292 - mean_absolute_error: 2751.9292\n",
            "Epoch 78/100\n",
            "26/26 [==============================] - 0s 10ms/step - loss: 2745.0754 - mean_absolute_error: 2745.0754\n",
            "Epoch 79/100\n",
            "26/26 [==============================] - 0s 14ms/step - loss: 2737.7039 - mean_absolute_error: 2737.7039\n",
            "Epoch 80/100\n",
            "26/26 [==============================] - 0s 11ms/step - loss: 2731.6191 - mean_absolute_error: 2731.6191\n",
            "Epoch 81/100\n",
            "26/26 [==============================] - 0s 12ms/step - loss: 2757.8176 - mean_absolute_error: 2757.8176\n",
            "Epoch 82/100\n",
            "26/26 [==============================] - 0s 15ms/step - loss: 2730.4148 - mean_absolute_error: 2730.4148\n",
            "Epoch 83/100\n",
            "26/26 [==============================] - 0s 10ms/step - loss: 2698.9158 - mean_absolute_error: 2698.9158\n",
            "Epoch 84/100\n",
            "26/26 [==============================] - 0s 13ms/step - loss: 2679.5776 - mean_absolute_error: 2679.5776\n",
            "Epoch 85/100\n",
            "26/26 [==============================] - 0s 14ms/step - loss: 2705.3684 - mean_absolute_error: 2705.3684\n",
            "Epoch 86/100\n",
            "26/26 [==============================] - 0s 13ms/step - loss: 2732.1082 - mean_absolute_error: 2732.1082\n",
            "Epoch 87/100\n",
            "26/26 [==============================] - 0s 14ms/step - loss: 2656.0125 - mean_absolute_error: 2656.0125\n",
            "Epoch 88/100\n",
            "26/26 [==============================] - 0s 15ms/step - loss: 2651.0200 - mean_absolute_error: 2651.0200\n",
            "Epoch 89/100\n",
            "26/26 [==============================] - 0s 11ms/step - loss: 2676.5481 - mean_absolute_error: 2676.5481\n",
            "Epoch 90/100\n",
            "26/26 [==============================] - 0s 10ms/step - loss: 2674.2185 - mean_absolute_error: 2674.2185\n",
            "Epoch 91/100\n",
            "26/26 [==============================] - 0s 14ms/step - loss: 2651.6462 - mean_absolute_error: 2651.6462\n",
            "Epoch 92/100\n",
            "26/26 [==============================] - 0s 13ms/step - loss: 2654.3208 - mean_absolute_error: 2654.3208\n",
            "Epoch 93/100\n",
            "26/26 [==============================] - 0s 15ms/step - loss: 2709.2173 - mean_absolute_error: 2709.2173\n",
            "Epoch 94/100\n",
            "26/26 [==============================] - 0s 14ms/step - loss: 2721.2512 - mean_absolute_error: 2721.2512\n",
            "Epoch 95/100\n",
            "26/26 [==============================] - 0s 12ms/step - loss: 2649.2261 - mean_absolute_error: 2649.2261\n",
            "Epoch 96/100\n",
            "26/26 [==============================] - 0s 13ms/step - loss: 2642.8862 - mean_absolute_error: 2642.8862\n",
            "Epoch 97/100\n",
            "26/26 [==============================] - 0s 12ms/step - loss: 2606.8420 - mean_absolute_error: 2606.8420\n",
            "Epoch 98/100\n",
            "26/26 [==============================] - 0s 12ms/step - loss: 2711.4653 - mean_absolute_error: 2711.4653\n",
            "Epoch 99/100\n",
            "26/26 [==============================] - 0s 11ms/step - loss: 2588.4131 - mean_absolute_error: 2588.4131\n",
            "Epoch 100/100\n",
            "26/26 [==============================] - 0s 11ms/step - loss: 2625.4106 - mean_absolute_error: 2625.4106\n"
          ]
        },
        {
          "output_type": "execute_result",
          "data": {
            "text/plain": [
              "<keras.callbacks.History at 0x7f9a6a082f10>"
            ]
          },
          "metadata": {},
          "execution_count": 27
        }
      ]
    },
    {
      "cell_type": "code",
      "source": [
        "model.evaluate(features_validation, labels_validation)"
      ],
      "metadata": {
        "colab": {
          "base_uri": "https://localhost:8080/"
        },
        "id": "oexgcia7xmox",
        "outputId": "f45f9811-f91c-4c0a-860a-4f86dcb8f84e"
      },
      "execution_count": 28,
      "outputs": [
        {
          "output_type": "stream",
          "name": "stdout",
          "text": [
            "9/9 [==============================] - 0s 3ms/step - loss: 2828.2305 - mean_absolute_error: 2828.2305\n"
          ]
        },
        {
          "output_type": "execute_result",
          "data": {
            "text/plain": [
              "[2828.23046875, 2828.23046875]"
            ]
          },
          "metadata": {},
          "execution_count": 28
        }
      ]
    },
    {
      "cell_type": "markdown",
      "source": [
        "# pre-test"
      ],
      "metadata": {
        "id": "tR1Dmn9Ystrj"
      }
    },
    {
      "cell_type": "code",
      "source": [
        "test_dataset = features_test\n",
        "test_labels = labels_test"
      ],
      "metadata": {
        "id": "oVmJMAP6su5o"
      },
      "execution_count": 29,
      "outputs": []
    },
    {
      "cell_type": "code",
      "source": [
        "values = model.evaluate(test_dataset, test_labels, verbose=2)\n",
        "print(values[0])\n",
        "print(values[1])"
      ],
      "metadata": {
        "colab": {
          "base_uri": "https://localhost:8080/"
        },
        "id": "iaxwKiwos0Xx",
        "outputId": "9556b4cc-7d19-4817-8449-a8d204d08504"
      },
      "execution_count": 30,
      "outputs": [
        {
          "output_type": "stream",
          "name": "stdout",
          "text": [
            "9/9 - 0s - loss: 2978.8103 - mean_absolute_error: 2978.8103 - 39ms/epoch - 4ms/step\n",
            "2978.810302734375\n",
            "2978.810302734375\n"
          ]
        }
      ]
    },
    {
      "cell_type": "markdown",
      "source": [
        "# Test "
      ],
      "metadata": {
        "id": "z3D2IsWyjkMf"
      }
    },
    {
      "cell_type": "code",
      "execution_count": 31,
      "metadata": {
        "id": "Xe7RXH3N3CWU",
        "colab": {
          "base_uri": "https://localhost:8080/",
          "height": 352
        },
        "outputId": "96ff1065-abff-4102-e6c3-fa33f0432ebd"
      },
      "outputs": [
        {
          "output_type": "stream",
          "name": "stdout",
          "text": [
            "9/9 - 0s - loss: 2978.8103 - mean_absolute_error: 2978.8103 - 36ms/epoch - 4ms/step\n",
            "Testing set Mean Abs Error: 2978.81 expenses\n",
            "You passed the challenge. Great job!\n",
            "9/9 [==============================] - 0s 3ms/step\n"
          ]
        },
        {
          "output_type": "display_data",
          "data": {
            "text/plain": [
              "<Figure size 432x288 with 1 Axes>"
            ],
            "image/png": "[encoded data removed]"
          },
          "metadata": {
            "needs_background": "light"
          }
        }
      ],
      "source": [
        "# RUN THIS CELL TO TEST YOUR MODEL. DO NOT MODIFY CONTENTS.\n",
        "# Test model by checking how well the model generalizes using the test set.\n",
        "# loss, mae, mse = model.evaluate(test_dataset, test_labels, verbose=2)\n",
        "mae, mse = model.evaluate(test_dataset, test_labels, verbose=2)\n",
        "\n",
        "print(\"Testing set Mean Abs Error: {:5.2f} expenses\".format(mae))\n",
        "\n",
        "if mae < 3500:\n",
        "  print(\"You passed the challenge. Great job!\")\n",
        "else:\n",
        "  print(\"The Mean Abs Error must be less than 3500. Keep trying.\")\n",
        "\n",
        "# Plot predictions.\n",
        "test_predictions = model.predict(test_dataset).flatten()\n",
        "\n",
        "a = plt.axes(aspect='equal')\n",
        "plt.scatter(test_labels, test_predictions)\n",
        "plt.xlabel('True values (expenses)')\n",
        "plt.ylabel('Predictions (expenses)')\n",
        "lims = [0, 50000]\n",
        "plt.xlim(lims)\n",
        "plt.ylim(lims)\n",
        "_ = plt.plot(lims,lims)\n"
      ]
    }
  ],
  "metadata": {
    "colab": {
      "collapsed_sections": [],
      "provenance": [],
      "toc_visible": true
    },
    "kernelspec": {
      "display_name": "Python 3",
      "name": "python3"
    },
    "gpuClass": "standard"
  },
  "nbformat": 4,
  "nbformat_minor": 0
}